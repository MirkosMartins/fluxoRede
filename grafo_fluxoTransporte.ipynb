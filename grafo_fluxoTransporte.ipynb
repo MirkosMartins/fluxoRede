{
  "nbformat": 4,
  "nbformat_minor": 0,
  "metadata": {
    "colab": {
      "provenance": []
    },
    "kernelspec": {
      "name": "python3",
      "display_name": "Python 3"
    },
    "language_info": {
      "name": "python"
    }
  },
  "cells": [
    {
      "cell_type": "code",
      "execution_count": 24,
      "metadata": {
        "colab": {
          "base_uri": "https://localhost:8080/"
        },
        "id": "4xMvFPe_v_2U",
        "outputId": "47e8730b-6a22-49af-af6c-dd207b1f230f"
      },
      "outputs": [
        {
          "output_type": "stream",
          "name": "stdout",
          "text": [
            "1\n",
            "2\n",
            "Adicionando...\n",
            "1\n"
          ]
        }
      ],
      "source": [
        "class aresta:\n",
        "  def __init__(self,grafo,origem,destino,custo,transporte):\n",
        "    if origem in grafo.vertices:\n",
        "      self.origem = origem\n",
        "    else:\n",
        "      print('Origem nao esta no grafo!')\n",
        "      self.origem = None\n",
        "      return None\n",
        "    if destino in grafo.vertices:\n",
        "      self.destino = destino\n",
        "    else:\n",
        "      print('Destino nao esta no grafo!')\n",
        "      self.destino = None\n",
        "      return None\n",
        "    self.custo = custo\n",
        "    self.transporte = transporte\n",
        "\n",
        "\n",
        "class grafo:\n",
        "  def __init__(self):\n",
        "    self.vertices=[]\n",
        "    self.arestas=[]\n",
        "  def adicionaVertice(self,nome):\n",
        "    self.vertices.append(nome)\n",
        "    return len(self.vertices)\n",
        "  def adicionaAresta(self,origem,destino,custo,transporte):\n",
        "    a = aresta(self,origem,destino,custo,transporte)\n",
        "    if a.origem!=None and a.destino!=None:\n",
        "      print('Adicionando...')\n",
        "      self.arestas.append(a)\n",
        "    return len(self.arestas)\n",
        "\n",
        "g = grafo()\n",
        "print(g.adicionaVertice('1'))\n",
        "print(g.adicionaVertice('2'))\n",
        "print(g.adicionaAresta('2','1',10,15))\n"
      ]
    }
  ]
}